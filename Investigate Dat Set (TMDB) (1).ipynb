{
 "cells": [
  {
   "cell_type": "markdown",
   "metadata": {},
   "source": [
    "\n",
    "# Project: Investigate a Dataset - [TMDB]\n",
    "\n",
    "## Table of Contents\n",
    "<ul>\n",
    "<li><a href=\"#intro\">Introduction</a></li>\n",
    "<li><a href=\"#wrangling\">Data Wrangling</a></li>\n",
    "<ul>\n",
    "    <li><a href=\"#reading\">Reading and Assessing Data</a></li>\n",
    "    <li><a href=\"#inspect\">Inspecting the data for the problems</a></li> \n",
    "    <li><a href=\"#clean\">Data Cleaning</a></li>\n",
    "    <li><a href=\"#manip\">Data Manipulation</a></li> \n",
    "\n",
    "</ul>\n",
    "<li><a href=\"#eda\">Exploratory Data Analysis</a></li>\n",
    "<li><a href=\"#conclusions\">Conclusions</a></li>\n",
    "</ul>"
   ]
  },
  {
   "cell_type": "markdown",
   "metadata": {},
   "source": [
    "<a id='intro'></a>\n",
    "## Introduction\n",
    "\n",
    "### Dataset Description \n",
    "\n",
    "> What can we say about the success of a movie before it is released? Are there certain companies (Pixar?) that have found a consistent formula? Given that major films costing over $100 million to produce can still flop, this question is more important than ever to the industry. Film aficionados might have different interests. Can we predict which films will be highly rated, whether or not they are a commercial success?\n",
    "\n",
    "> This is a great place to start digging in to those questions, with data on the plot, cast, crew, budget, and revenues of several thousand films.\n",
    "\n"
   ]
  },
  {
   "cell_type": "code",
   "execution_count": 1,
   "metadata": {},
   "outputs": [],
   "source": [
    "# Importing Required libraries\n",
    "import numpy as np\n",
    "import pandas as pd\n",
    "import matplotlib.pyplot as plt\n",
    "%matplotlib inline\n",
    "import seaborn as sns\n",
    "from datetime import datetime as dt\n"
   ]
  },
  {
   "cell_type": "markdown",
   "metadata": {},
   "source": [
    "<a id='wrangling'></a>\n",
    "## Data Wrangling\n",
    "\n",
    "In this section of the report, we will load in the data, check for cleanliness, and then trim and clean your dataset for analysis. "
   ]
  },
  {
   "cell_type": "markdown",
   "metadata": {},
   "source": [
    "<a id='reading'></a>\n",
    "#### 1- Reading and Assessing Data"
   ]
  },
  {
   "cell_type": "code",
   "execution_count": 2,
   "metadata": {},
   "outputs": [],
   "source": [
    "#Reading CSV\n",
    "df_orig = pd.read_csv('tmdb-movies.csv')"
   ]
  },
  {
   "cell_type": "code",
   "execution_count": 3,
   "metadata": {},
   "outputs": [
    {
     "name": "stdout",
     "output_type": "stream",
     "text": [
      "<class 'pandas.core.frame.DataFrame'>\n",
      "RangeIndex: 10866 entries, 0 to 10865\n",
      "Data columns (total 21 columns):\n",
      " #   Column                Non-Null Count  Dtype  \n",
      "---  ------                --------------  -----  \n",
      " 0   id                    10866 non-null  int64  \n",
      " 1   imdb_id               10856 non-null  object \n",
      " 2   popularity            10866 non-null  float64\n",
      " 3   budget                10866 non-null  int64  \n",
      " 4   revenue               10866 non-null  int64  \n",
      " 5   original_title        10866 non-null  object \n",
      " 6   cast                  10790 non-null  object \n",
      " 7   homepage              2936 non-null   object \n",
      " 8   director              10822 non-null  object \n",
      " 9   tagline               8042 non-null   object \n",
      " 10  keywords              9373 non-null   object \n",
      " 11  overview              10862 non-null  object \n",
      " 12  runtime               10866 non-null  int64  \n",
      " 13  genres                10843 non-null  object \n",
      " 14  production_companies  9836 non-null   object \n",
      " 15  release_date          10866 non-null  object \n",
      " 16  vote_count            10866 non-null  int64  \n",
      " 17  vote_average          10866 non-null  float64\n",
      " 18  release_year          10866 non-null  int64  \n",
      " 19  budget_adj            10866 non-null  float64\n",
      " 20  revenue_adj           10866 non-null  float64\n",
      "dtypes: float64(4), int64(6), object(11)\n",
      "memory usage: 1.7+ MB\n"
     ]
    }
   ],
   "source": [
    "#information about datset\n",
    "df_orig.info()"
   ]
  },
  {
   "cell_type": "code",
   "execution_count": 4,
   "metadata": {},
   "outputs": [],
   "source": [
    "# Making a copy of our dataset and set the indexing to the movie title\n",
    "df=df_orig.copy()"
   ]
  },
  {
   "cell_type": "code",
   "execution_count": 5,
   "metadata": {
    "scrolled": true
   },
   "outputs": [
    {
     "data": {
      "text/html": [
       "<div>\n",
       "<style scoped>\n",
       "    .dataframe tbody tr th:only-of-type {\n",
       "        vertical-align: middle;\n",
       "    }\n",
       "\n",
       "    .dataframe tbody tr th {\n",
       "        vertical-align: top;\n",
       "    }\n",
       "\n",
       "    .dataframe thead th {\n",
       "        text-align: right;\n",
       "    }\n",
       "</style>\n",
       "<table border=\"1\" class=\"dataframe\">\n",
       "  <thead>\n",
       "    <tr style=\"text-align: right;\">\n",
       "      <th></th>\n",
       "      <th>id</th>\n",
       "      <th>imdb_id</th>\n",
       "      <th>popularity</th>\n",
       "      <th>budget</th>\n",
       "      <th>revenue</th>\n",
       "      <th>original_title</th>\n",
       "      <th>cast</th>\n",
       "      <th>homepage</th>\n",
       "      <th>director</th>\n",
       "      <th>tagline</th>\n",
       "      <th>...</th>\n",
       "      <th>overview</th>\n",
       "      <th>runtime</th>\n",
       "      <th>genres</th>\n",
       "      <th>production_companies</th>\n",
       "      <th>release_date</th>\n",
       "      <th>vote_count</th>\n",
       "      <th>vote_average</th>\n",
       "      <th>release_year</th>\n",
       "      <th>budget_adj</th>\n",
       "      <th>revenue_adj</th>\n",
       "    </tr>\n",
       "  </thead>\n",
       "  <tbody>\n",
       "    <tr>\n",
       "      <th>6134</th>\n",
       "      <td>10372</td>\n",
       "      <td>tt0089110</td>\n",
       "      <td>0.393399</td>\n",
       "      <td>0</td>\n",
       "      <td>0</td>\n",
       "      <td>Ewoks: The Battle for Endor</td>\n",
       "      <td>Wilford Brimley|Warwick Davis|Aubree Miller|Si...</td>\n",
       "      <td>NaN</td>\n",
       "      <td>Jim Wheat|Ken Wheat</td>\n",
       "      <td>An adventure on a world beyond the stars.</td>\n",
       "      <td>...</td>\n",
       "      <td>The army of the Marauders, led by by King Tera...</td>\n",
       "      <td>100</td>\n",
       "      <td>Fantasy|Science Fiction</td>\n",
       "      <td>Lucasfilm</td>\n",
       "      <td>11/24/85</td>\n",
       "      <td>32</td>\n",
       "      <td>5.3</td>\n",
       "      <td>1985</td>\n",
       "      <td>0.000000e+00</td>\n",
       "      <td>0.000000e+00</td>\n",
       "    </tr>\n",
       "    <tr>\n",
       "      <th>4846</th>\n",
       "      <td>135579</td>\n",
       "      <td>tt1989485</td>\n",
       "      <td>0.126328</td>\n",
       "      <td>0</td>\n",
       "      <td>0</td>\n",
       "      <td>Dead Before Dawn 3D</td>\n",
       "      <td>Christopher Lloyd|Devon Bostick|Martha MacIsaa...</td>\n",
       "      <td>NaN</td>\n",
       "      <td>April Mullen</td>\n",
       "      <td>Half Zombie. Half Demon. All Zemon!</td>\n",
       "      <td>...</td>\n",
       "      <td>A bunch of college kids accidentally unleash a...</td>\n",
       "      <td>88</td>\n",
       "      <td>Adventure|Comedy|Horror</td>\n",
       "      <td>KSM</td>\n",
       "      <td>10/10/12</td>\n",
       "      <td>16</td>\n",
       "      <td>3.9</td>\n",
       "      <td>2012</td>\n",
       "      <td>0.000000e+00</td>\n",
       "      <td>0.000000e+00</td>\n",
       "    </tr>\n",
       "    <tr>\n",
       "      <th>9480</th>\n",
       "      <td>8740</td>\n",
       "      <td>tt0096163</td>\n",
       "      <td>0.597387</td>\n",
       "      <td>0</td>\n",
       "      <td>0</td>\n",
       "      <td>Spoorloos</td>\n",
       "      <td>Bernard-Pierre Donnadieu|Eugene Bervoets|Johan...</td>\n",
       "      <td>NaN</td>\n",
       "      <td>George Sluizer</td>\n",
       "      <td>Who Has Seen This Woman?</td>\n",
       "      <td>...</td>\n",
       "      <td>A young man begins an obsessive search for his...</td>\n",
       "      <td>107</td>\n",
       "      <td>Horror|Thriller</td>\n",
       "      <td>MGS Film</td>\n",
       "      <td>10/27/88</td>\n",
       "      <td>40</td>\n",
       "      <td>7.1</td>\n",
       "      <td>1988</td>\n",
       "      <td>0.000000e+00</td>\n",
       "      <td>0.000000e+00</td>\n",
       "    </tr>\n",
       "    <tr>\n",
       "      <th>76</th>\n",
       "      <td>227973</td>\n",
       "      <td>tt2452042</td>\n",
       "      <td>2.140199</td>\n",
       "      <td>99000000</td>\n",
       "      <td>246233113</td>\n",
       "      <td>The Peanuts Movie</td>\n",
       "      <td>Noah Schnapp|Bill Melendez|Venus Schultheis|Ha...</td>\n",
       "      <td>http://www.peanutsmovie.com/</td>\n",
       "      <td>Steve Martino</td>\n",
       "      <td>The story of an underdog. And his dog.</td>\n",
       "      <td>...</td>\n",
       "      <td>Snoopy embarks upon his greatest mission as he...</td>\n",
       "      <td>88</td>\n",
       "      <td>Adventure|Animation|Comedy|Family</td>\n",
       "      <td>Blue Sky Studios|Twentieth Century Fox Animati...</td>\n",
       "      <td>11/5/15</td>\n",
       "      <td>414</td>\n",
       "      <td>6.4</td>\n",
       "      <td>2015</td>\n",
       "      <td>9.107996e+07</td>\n",
       "      <td>2.265344e+08</td>\n",
       "    </tr>\n",
       "    <tr>\n",
       "      <th>4427</th>\n",
       "      <td>76493</td>\n",
       "      <td>tt1645170</td>\n",
       "      <td>1.291798</td>\n",
       "      <td>65000000</td>\n",
       "      <td>179379533</td>\n",
       "      <td>The Dictator</td>\n",
       "      <td>Sacha Baron Cohen|Sayed Badreya|Aasif Mandvi|M...</td>\n",
       "      <td>http://www.dictatorthemovie.com/</td>\n",
       "      <td>Larry Charles</td>\n",
       "      <td>kurd</td>\n",
       "      <td>...</td>\n",
       "      <td>The heroic story of a dictator who risks his l...</td>\n",
       "      <td>83</td>\n",
       "      <td>Comedy</td>\n",
       "      <td>Paramount Pictures</td>\n",
       "      <td>5/15/12</td>\n",
       "      <td>1159</td>\n",
       "      <td>5.9</td>\n",
       "      <td>2012</td>\n",
       "      <td>6.173338e+07</td>\n",
       "      <td>1.703647e+08</td>\n",
       "    </tr>\n",
       "    <tr>\n",
       "      <th>5086</th>\n",
       "      <td>25935</td>\n",
       "      <td>tt0258816</td>\n",
       "      <td>0.431875</td>\n",
       "      <td>0</td>\n",
       "      <td>0</td>\n",
       "      <td>The Reckoning</td>\n",
       "      <td>Paul Bettany|Willem Dafoe|Tom Hardy|Brian Cox|...</td>\n",
       "      <td>NaN</td>\n",
       "      <td>Paul McGuigan</td>\n",
       "      <td>The truth shall come to light</td>\n",
       "      <td>...</td>\n",
       "      <td>In 14th Century England, this tale of murder a...</td>\n",
       "      <td>112</td>\n",
       "      <td>Crime|Drama|Mystery</td>\n",
       "      <td>Renaissance Films|Kanzaman, M.D.A. Films S.L.</td>\n",
       "      <td>8/6/03</td>\n",
       "      <td>10</td>\n",
       "      <td>7.2</td>\n",
       "      <td>2003</td>\n",
       "      <td>0.000000e+00</td>\n",
       "      <td>0.000000e+00</td>\n",
       "    </tr>\n",
       "    <tr>\n",
       "      <th>7116</th>\n",
       "      <td>11058</td>\n",
       "      <td>tt0335121</td>\n",
       "      <td>0.433748</td>\n",
       "      <td>25000000</td>\n",
       "      <td>30114487</td>\n",
       "      <td>Godsend</td>\n",
       "      <td>Greg Kinnear|Rebecca Romijn|Robert De Niro|Cam...</td>\n",
       "      <td>NaN</td>\n",
       "      <td>Nick Hamm</td>\n",
       "      <td>When a miracle becomes a nightmare, evil is born.</td>\n",
       "      <td>...</td>\n",
       "      <td>A couple agree to have their deceased son clon...</td>\n",
       "      <td>102</td>\n",
       "      <td>Drama|Horror|Science Fiction|Thriller</td>\n",
       "      <td>Lions Gate Films|2929 Productions|Artists Prod...</td>\n",
       "      <td>4/30/04</td>\n",
       "      <td>60</td>\n",
       "      <td>4.7</td>\n",
       "      <td>2004</td>\n",
       "      <td>2.886113e+07</td>\n",
       "      <td>3.476553e+07</td>\n",
       "    </tr>\n",
       "    <tr>\n",
       "      <th>1970</th>\n",
       "      <td>23830</td>\n",
       "      <td>tt1294688</td>\n",
       "      <td>1.344701</td>\n",
       "      <td>7000000</td>\n",
       "      <td>7644937</td>\n",
       "      <td>Last Night</td>\n",
       "      <td>Keira Knightley|Sam Worthington|Eva Mendes|Gui...</td>\n",
       "      <td>http://www.lastnightmovie.com/</td>\n",
       "      <td>Massy Tadjedin</td>\n",
       "      <td>Temptation can lead anywhere.</td>\n",
       "      <td>...</td>\n",
       "      <td>The story follows a married couple, apart for ...</td>\n",
       "      <td>90</td>\n",
       "      <td>Drama|Romance</td>\n",
       "      <td>Gaumont|Nick Wechsler Productions|Star Enterta...</td>\n",
       "      <td>5/11/10</td>\n",
       "      <td>150</td>\n",
       "      <td>6.1</td>\n",
       "      <td>2010</td>\n",
       "      <td>7.000000e+06</td>\n",
       "      <td>7.644937e+06</td>\n",
       "    </tr>\n",
       "  </tbody>\n",
       "</table>\n",
       "<p>8 rows × 21 columns</p>\n",
       "</div>"
      ],
      "text/plain": [
       "          id    imdb_id  popularity    budget    revenue  \\\n",
       "6134   10372  tt0089110    0.393399         0          0   \n",
       "4846  135579  tt1989485    0.126328         0          0   \n",
       "9480    8740  tt0096163    0.597387         0          0   \n",
       "76    227973  tt2452042    2.140199  99000000  246233113   \n",
       "4427   76493  tt1645170    1.291798  65000000  179379533   \n",
       "5086   25935  tt0258816    0.431875         0          0   \n",
       "7116   11058  tt0335121    0.433748  25000000   30114487   \n",
       "1970   23830  tt1294688    1.344701   7000000    7644937   \n",
       "\n",
       "                   original_title  \\\n",
       "6134  Ewoks: The Battle for Endor   \n",
       "4846          Dead Before Dawn 3D   \n",
       "9480                    Spoorloos   \n",
       "76              The Peanuts Movie   \n",
       "4427                 The Dictator   \n",
       "5086                The Reckoning   \n",
       "7116                      Godsend   \n",
       "1970                   Last Night   \n",
       "\n",
       "                                                   cast  \\\n",
       "6134  Wilford Brimley|Warwick Davis|Aubree Miller|Si...   \n",
       "4846  Christopher Lloyd|Devon Bostick|Martha MacIsaa...   \n",
       "9480  Bernard-Pierre Donnadieu|Eugene Bervoets|Johan...   \n",
       "76    Noah Schnapp|Bill Melendez|Venus Schultheis|Ha...   \n",
       "4427  Sacha Baron Cohen|Sayed Badreya|Aasif Mandvi|M...   \n",
       "5086  Paul Bettany|Willem Dafoe|Tom Hardy|Brian Cox|...   \n",
       "7116  Greg Kinnear|Rebecca Romijn|Robert De Niro|Cam...   \n",
       "1970  Keira Knightley|Sam Worthington|Eva Mendes|Gui...   \n",
       "\n",
       "                              homepage             director  \\\n",
       "6134                               NaN  Jim Wheat|Ken Wheat   \n",
       "4846                               NaN         April Mullen   \n",
       "9480                               NaN       George Sluizer   \n",
       "76        http://www.peanutsmovie.com/        Steve Martino   \n",
       "4427  http://www.dictatorthemovie.com/        Larry Charles   \n",
       "5086                               NaN        Paul McGuigan   \n",
       "7116                               NaN            Nick Hamm   \n",
       "1970    http://www.lastnightmovie.com/       Massy Tadjedin   \n",
       "\n",
       "                                                tagline  ...  \\\n",
       "6134          An adventure on a world beyond the stars.  ...   \n",
       "4846                Half Zombie. Half Demon. All Zemon!  ...   \n",
       "9480                           Who Has Seen This Woman?  ...   \n",
       "76               The story of an underdog. And his dog.  ...   \n",
       "4427                                               kurd  ...   \n",
       "5086                      The truth shall come to light  ...   \n",
       "7116  When a miracle becomes a nightmare, evil is born.  ...   \n",
       "1970                      Temptation can lead anywhere.  ...   \n",
       "\n",
       "                                               overview runtime  \\\n",
       "6134  The army of the Marauders, led by by King Tera...     100   \n",
       "4846  A bunch of college kids accidentally unleash a...      88   \n",
       "9480  A young man begins an obsessive search for his...     107   \n",
       "76    Snoopy embarks upon his greatest mission as he...      88   \n",
       "4427  The heroic story of a dictator who risks his l...      83   \n",
       "5086  In 14th Century England, this tale of murder a...     112   \n",
       "7116  A couple agree to have their deceased son clon...     102   \n",
       "1970  The story follows a married couple, apart for ...      90   \n",
       "\n",
       "                                     genres  \\\n",
       "6134                Fantasy|Science Fiction   \n",
       "4846                Adventure|Comedy|Horror   \n",
       "9480                        Horror|Thriller   \n",
       "76        Adventure|Animation|Comedy|Family   \n",
       "4427                                 Comedy   \n",
       "5086                    Crime|Drama|Mystery   \n",
       "7116  Drama|Horror|Science Fiction|Thriller   \n",
       "1970                          Drama|Romance   \n",
       "\n",
       "                                   production_companies release_date  \\\n",
       "6134                                          Lucasfilm     11/24/85   \n",
       "4846                                                KSM     10/10/12   \n",
       "9480                                           MGS Film     10/27/88   \n",
       "76    Blue Sky Studios|Twentieth Century Fox Animati...      11/5/15   \n",
       "4427                                 Paramount Pictures      5/15/12   \n",
       "5086      Renaissance Films|Kanzaman, M.D.A. Films S.L.       8/6/03   \n",
       "7116  Lions Gate Films|2929 Productions|Artists Prod...      4/30/04   \n",
       "1970  Gaumont|Nick Wechsler Productions|Star Enterta...      5/11/10   \n",
       "\n",
       "     vote_count  vote_average  release_year    budget_adj   revenue_adj  \n",
       "6134         32           5.3          1985  0.000000e+00  0.000000e+00  \n",
       "4846         16           3.9          2012  0.000000e+00  0.000000e+00  \n",
       "9480         40           7.1          1988  0.000000e+00  0.000000e+00  \n",
       "76          414           6.4          2015  9.107996e+07  2.265344e+08  \n",
       "4427       1159           5.9          2012  6.173338e+07  1.703647e+08  \n",
       "5086         10           7.2          2003  0.000000e+00  0.000000e+00  \n",
       "7116         60           4.7          2004  2.886113e+07  3.476553e+07  \n",
       "1970        150           6.1          2010  7.000000e+06  7.644937e+06  \n",
       "\n",
       "[8 rows x 21 columns]"
      ]
     },
     "execution_count": 5,
     "metadata": {},
     "output_type": "execute_result"
    }
   ],
   "source": [
    "#Take some samples of the datset to get familiar with them\n",
    "df.sample(8)"
   ]
  },
  {
   "cell_type": "code",
   "execution_count": 6,
   "metadata": {},
   "outputs": [],
   "source": [
    "# df.columns"
   ]
  },
  {
   "cell_type": "markdown",
   "metadata": {},
   "source": [
    "<a id='inspect'></a>\n",
    "#### 2- Inspecting the data for the problems\n",
    "- As the info() shows many columns will not be required for our analysis including [id, imdb_id, homepage, overview]\n",
    "- Datetime conversion od release date.\n",
    "- Checking the duplicates and delete them\n",
    "- Many of the movies have been set to Zero budget and revenue, this is meanless so I'll drop these rows from the datset.\n",
    "- Since our analysis will refer to director, genere and cast of each movie, I'll drop the NANs in all those three columns\n",
    "\n",
    "\n"
   ]
  },
  {
   "cell_type": "markdown",
   "metadata": {},
   "source": [
    "<a id='clean'></a>\n",
    "#### 3-Data Cleaning\n",
    " "
   ]
  },
  {
   "cell_type": "markdown",
   "metadata": {},
   "source": [
    "###### Define\n",
    "- As the info() shows many columns will not be required for our analysis including [id, imdb_id, homepage, overview]"
   ]
  },
  {
   "cell_type": "markdown",
   "metadata": {},
   "source": [
    "##### Code"
   ]
  },
  {
   "cell_type": "code",
   "execution_count": 7,
   "metadata": {},
   "outputs": [],
   "source": [
    "df.drop(columns= ['id', 'imdb_id', 'homepage', 'overview', 'tagline', 'keywords'], inplace = True)\n"
   ]
  },
  {
   "cell_type": "markdown",
   "metadata": {},
   "source": [
    "##### test"
   ]
  },
  {
   "cell_type": "code",
   "execution_count": 8,
   "metadata": {},
   "outputs": [
    {
     "data": {
      "text/plain": [
       "Index(['popularity', 'budget', 'revenue', 'original_title', 'cast', 'director',\n",
       "       'runtime', 'genres', 'production_companies', 'release_date',\n",
       "       'vote_count', 'vote_average', 'release_year', 'budget_adj',\n",
       "       'revenue_adj'],\n",
       "      dtype='object')"
      ]
     },
     "execution_count": 8,
     "metadata": {},
     "output_type": "execute_result"
    }
   ],
   "source": [
    "df.columns"
   ]
  },
  {
   "cell_type": "markdown",
   "metadata": {},
   "source": [
    "##### Define\n",
    "- Datetime conversion od release date."
   ]
  },
  {
   "cell_type": "code",
   "execution_count": 9,
   "metadata": {},
   "outputs": [],
   "source": [
    "# Code\n",
    "df['release_date'] = pd.to_datetime(df['release_date'], infer_datetime_format=True)"
   ]
  },
  {
   "cell_type": "code",
   "execution_count": 10,
   "metadata": {},
   "outputs": [
    {
     "data": {
      "text/plain": [
       "popularity                     float64\n",
       "budget                           int64\n",
       "revenue                          int64\n",
       "original_title                  object\n",
       "cast                            object\n",
       "director                        object\n",
       "runtime                          int64\n",
       "genres                          object\n",
       "production_companies            object\n",
       "release_date            datetime64[ns]\n",
       "vote_count                       int64\n",
       "vote_average                   float64\n",
       "release_year                     int64\n",
       "budget_adj                     float64\n",
       "revenue_adj                    float64\n",
       "dtype: object"
      ]
     },
     "execution_count": 10,
     "metadata": {},
     "output_type": "execute_result"
    }
   ],
   "source": [
    "# Test\n",
    "df.dtypes"
   ]
  },
  {
   "cell_type": "markdown",
   "metadata": {},
   "source": [
    "##### Define\n",
    "- Checking the duplicates and delete them"
   ]
  },
  {
   "cell_type": "code",
   "execution_count": 11,
   "metadata": {},
   "outputs": [
    {
     "data": {
      "text/plain": [
       "1"
      ]
     },
     "execution_count": 11,
     "metadata": {},
     "output_type": "execute_result"
    }
   ],
   "source": [
    "df.duplicated().sum()"
   ]
  },
  {
   "cell_type": "code",
   "execution_count": 12,
   "metadata": {},
   "outputs": [],
   "source": [
    "# Code\n",
    "df.drop_duplicates(inplace=True)"
   ]
  },
  {
   "cell_type": "code",
   "execution_count": 13,
   "metadata": {},
   "outputs": [
    {
     "data": {
      "text/plain": [
       "0"
      ]
     },
     "execution_count": 13,
     "metadata": {},
     "output_type": "execute_result"
    }
   ],
   "source": [
    "# Test\n",
    "df.duplicated().sum()"
   ]
  },
  {
   "cell_type": "markdown",
   "metadata": {},
   "source": [
    "Define\n",
    "- Many of the movies have been set to Zero budget and revenue, this is meanless so I'll drop these rows from the datset"
   ]
  },
  {
   "cell_type": "code",
   "execution_count": 14,
   "metadata": {},
   "outputs": [
    {
     "data": {
      "text/plain": [
       "5696"
      ]
     },
     "execution_count": 14,
     "metadata": {},
     "output_type": "execute_result"
    }
   ],
   "source": [
    "len (df[df['budget']==0])"
   ]
  },
  {
   "cell_type": "code",
   "execution_count": 15,
   "metadata": {},
   "outputs": [
    {
     "data": {
      "text/plain": [
       "6016"
      ]
     },
     "execution_count": 15,
     "metadata": {},
     "output_type": "execute_result"
    }
   ],
   "source": [
    "len (df[df['revenue']==0])"
   ]
  },
  {
   "cell_type": "code",
   "execution_count": 16,
   "metadata": {},
   "outputs": [],
   "source": [
    "#Code\n",
    "indexzero = df[ (df['revenue'] == 0) | (df['budget'] == 0) ].index\n",
    "df.drop(indexzero , inplace=True)"
   ]
  },
  {
   "cell_type": "code",
   "execution_count": 17,
   "metadata": {},
   "outputs": [
    {
     "data": {
      "text/plain": [
       "0"
      ]
     },
     "execution_count": 17,
     "metadata": {},
     "output_type": "execute_result"
    }
   ],
   "source": [
    "#Test\n",
    "len (df[df['budget']==0])"
   ]
  },
  {
   "cell_type": "markdown",
   "metadata": {},
   "source": [
    "#### Define\n",
    "- Dropping NANs of director and cast"
   ]
  },
  {
   "cell_type": "code",
   "execution_count": 18,
   "metadata": {},
   "outputs": [
    {
     "data": {
      "text/plain": [
       "director    1\n",
       "cast        4\n",
       "dtype: int64"
      ]
     },
     "execution_count": 18,
     "metadata": {},
     "output_type": "execute_result"
    }
   ],
   "source": [
    "df[['director','cast']].isna().sum()"
   ]
  },
  {
   "cell_type": "code",
   "execution_count": 19,
   "metadata": {},
   "outputs": [],
   "source": [
    "# Code\n",
    "df.dropna(subset=['director','cast'],inplace = True)"
   ]
  },
  {
   "cell_type": "code",
   "execution_count": 20,
   "metadata": {},
   "outputs": [
    {
     "data": {
      "text/plain": [
       "director    0\n",
       "cast        0\n",
       "dtype: int64"
      ]
     },
     "execution_count": 20,
     "metadata": {},
     "output_type": "execute_result"
    }
   ],
   "source": [
    "# Test\n",
    "df[['director','cast']].isna().sum()"
   ]
  },
  {
   "cell_type": "markdown",
   "metadata": {},
   "source": [
    "<a id='manip'></a>\n",
    "#### 4-Data Manipulation"
   ]
  },
  {
   "cell_type": "markdown",
   "metadata": {},
   "source": [
    "- Since many columns have pipeline delimiters between the recored, I'm goin to split those data with pipelines to number of rows as number of pipes into new dataframes to check the corelation between those data and both popularity and revenue"
   ]
  },
  {
   "cell_type": "code",
   "execution_count": 21,
   "metadata": {
    "scrolled": true
   },
   "outputs": [
    {
     "data": {
      "text/plain": [
       "Index(['popularity', 'budget', 'revenue', 'original_title', 'cast', 'director',\n",
       "       'runtime', 'genres', 'production_companies', 'release_date',\n",
       "       'vote_count', 'vote_average', 'release_year', 'budget_adj',\n",
       "       'revenue_adj'],\n",
       "      dtype='object')"
      ]
     },
     "execution_count": 21,
     "metadata": {},
     "output_type": "execute_result"
    }
   ],
   "source": [
    "df.columns"
   ]
  },
  {
   "cell_type": "code",
   "execution_count": 22,
   "metadata": {
    "scrolled": true
   },
   "outputs": [],
   "source": [
    "#df[df['production_companies'].str.contains('|')==True].sample()"
   ]
  },
  {
   "cell_type": "code",
   "execution_count": 23,
   "metadata": {},
   "outputs": [],
   "source": [
    "def pipe (df, col_name):\n",
    "    ''' Take two arguments of the dataframe and the required column of the dataframe and return a dataframe of the column with | seperator seperate in many rows'''\n",
    "    pipe_df= df.copy()\n",
    "    pipe_df[col_name] = pipe_df[col_name].str.replace(' ','')\n",
    "    pipe_df[col_name] = pipe_df[col_name].str.split('[ |]')\n",
    "    pipe_df.apply(lambda x: x.explode() if x.name in [col_name] else x)\n",
    "    pipe_df= pipe_df.explode([col_name])\n",
    "    pipe_df= pipe_df[['popularity', 'budget', 'revenue', col_name, 'vote_count', 'vote_average','release_date', 'release_year', 'budget_adj',\n",
    "       'revenue_adj']]\n",
    "    return pipe_df"
   ]
  },
  {
   "cell_type": "code",
   "execution_count": 24,
   "metadata": {
    "scrolled": true
   },
   "outputs": [],
   "source": [
    "#Creating four dataframes for cast, director, genres and production_companies\n",
    "cast_df=pipe (df, 'cast')\n",
    "production_co_df=pipe (df, 'production_companies')\n",
    "director_df=pipe (df, 'director')\n",
    "genres_df=pipe (df, 'genres')"
   ]
  },
  {
   "cell_type": "markdown",
   "metadata": {},
   "source": [
    "<a id='eda'></a>\n",
    "## Exploratory Data Analysis\n",
    "\n",
    "> **Tip**: Now that you've trimmed and cleaned your data, you're ready to move on to exploration. **Compute statistics** and **create visualizations** with the goal of addressing the research questions that you posed in the Introduction section. You should compute the relevant statistics throughout the analysis when an inference is made about the data. Note that at least two or more kinds of plots should be created as part of the exploration, and you must  compare and show trends in the varied visualizations. \n",
    "\n",
    "\n",
    "\n",
    "> **Tip**: - Investigate the stated question(s) from multiple angles. It is recommended that you be systematic with your approach. Look at one variable at a time, and then follow it up by looking at relationships between variables. You should explore at least three variables in relation to the primary question. This can be an exploratory relationship between three variables of interest, or looking at how two independent variables relate to a single dependent variable of interest. Lastly, you  should perform both single-variable (1d) and multiple-variable (2d) explorations.\n",
    "\n",
    "\n",
    "### Research Question 1 (Genres of movie with popularity and revenue)\n",
    "- Find top five genres in term of popularity, votes average and revenue"
   ]
  },
  {
   "cell_type": "code",
   "execution_count": 25,
   "metadata": {},
   "outputs": [
    {
     "data": {
      "image/png": "[encoded data removed]",
      "text/plain": [
       "<Figure size 576x576 with 4 Axes>"
      ]
     },
     "metadata": {
      "needs_background": "light"
     },
     "output_type": "display_data"
    },
    {
     "data": {
      "image/png": "[encoded data removed]",
      "text/plain": [
       "<Figure size 576x576 with 4 Axes>"
      ]
     },
     "metadata": {
      "needs_background": "light"
     },
     "output_type": "display_data"
    },
    {
     "data": {
      "image/png": "[encoded data removed]",
      "text/plain": [
       "<Figure size 576x576 with 4 Axes>"
      ]
     },
     "metadata": {
      "needs_background": "light"
     },
     "output_type": "display_data"
    },
    {
     "data": {
      "image/png": "[encoded data removed]",
      "text/plain": [
       "<Figure size 576x576 with 4 Axes>"
      ]
     },
     "metadata": {
      "needs_background": "light"
     },
     "output_type": "display_data"
    }
   ],
   "source": [
    "# \n",
    "genres_df_1 = genres_df[['genres', 'vote_count']].groupby(['genres']).mean().sort_values('vote_count', ascending = False).head()\n",
    "genres_df_2 = genres_df[['genres', 'vote_average']].groupby(['genres']).mean().sort_values('vote_average', ascending = False).head()\n",
    "genres_df_3 = genres_df[['genres', 'revenue_adj']].groupby(['genres']).mean().sort_values('revenue_adj', ascending = False).head()\n",
    "genres_df_4 = genres_df[['genres', 'popularity']].groupby(['genres']).mean().sort_values('popularity', ascending = False).head()\n",
    "\n",
    "genres_df_1.plot(kind='bar', title='Genre with total vote_count',\n",
    "               ylabel='vote_count', xlabel='genres', figsize=(8, 8), subplots=True, layout = (2,2))\n",
    "genres_df_2.plot(kind='bar', title='Genre with average vote_count',\n",
    "               ylabel='vote_average', xlabel='genres', figsize=(8, 8), subplots=True, layout = (2,2))\n",
    "genres_df_3.plot(kind='bar', title='Genre with total average revenue_adj',\n",
    "               ylabel='revenue', xlabel='genres', figsize=(8, 8), subplots=True, layout = (2,2))\n",
    "genres_df_4.plot(kind='bar', title='Average popularity for each genre',\n",
    "               ylabel='popularity', xlabel='genres', figsize=(8, 8), subplots=True, layout = (2,2))\n",
    "plt.show()\n",
    "\n"
   ]
  },
  {
   "cell_type": "code",
   "execution_count": 26,
   "metadata": {
    "scrolled": true
   },
   "outputs": [
    {
     "data": {
      "text/plain": [
       "release_year  genres\n",
       "2011          Drama     89\n",
       "2006          Drama     89\n",
       "2010          Drama     84\n",
       "2009          Drama     83\n",
       "2005          Drama     82\n",
       "2015          Drama     81\n",
       "2008          Drama     80\n",
       "2013          Drama     80\n",
       "2014          Drama     79\n",
       "2007          Drama     75\n",
       "dtype: int64"
      ]
     },
     "execution_count": 26,
     "metadata": {},
     "output_type": "execute_result"
    }
   ],
   "source": [
    "# Finding the most common genres in all years\n",
    "genres_df.groupby(['release_year', 'genres']).size().sort_values(ascending=False).head(10)"
   ]
  },
  {
   "cell_type": "code",
   "execution_count": 27,
   "metadata": {},
   "outputs": [
    {
     "data": {
      "text/plain": [
       "release_year  director        \n",
       "2007          RobZombie           2\n",
       "1994          GaryGoldman         2\n",
       "2003          RobertRodriguez     2\n",
       "2005          WesCraven           2\n",
       "              UweBoll             2\n",
       "2003          ShawnLevy           2\n",
       "2005          TimBurton           2\n",
       "2011          DennisDugan         2\n",
       "2005          StevenSpielberg     2\n",
       "2011          DavidGordonGreen    2\n",
       "dtype: int64"
      ]
     },
     "execution_count": 27,
     "metadata": {},
     "output_type": "execute_result"
    }
   ],
   "source": [
    "# Finding the maximum number of movies directed by the same director in year\n",
    "director_df.groupby(['release_year', 'director']).size().sort_values(ascending=False).head(10)"
   ]
  },
  {
   "cell_type": "code",
   "execution_count": 28,
   "metadata": {
    "scrolled": true
   },
   "outputs": [
    {
     "data": {
      "text/plain": [
       "release_year  cast             \n",
       "2012          BruceWillis          6\n",
       "2013          JamesFranco          6\n",
       "              DwayneJohnson        5\n",
       "2006          HughJackman          5\n",
       "2013          EdHarris             5\n",
       "2009          JustinLong           5\n",
       "2005          EwanMcGregor         5\n",
       "2011          NicolasCage          5\n",
       "2014          ScarlettJohansson    4\n",
       "2011          OwenWilson           4\n",
       "dtype: int64"
      ]
     },
     "execution_count": 28,
     "metadata": {},
     "output_type": "execute_result"
    }
   ],
   "source": [
    "# Finding the maximum number of movies of the same actor / actress in year\n",
    "cast_df.groupby(['release_year', 'cast']).size().sort_values(ascending=False).head(10)"
   ]
  },
  {
   "cell_type": "code",
   "execution_count": 29,
   "metadata": {},
   "outputs": [
    {
     "data": {
      "text/plain": [
       "director\n",
       "IrwinWinkler       1.583050e+09\n",
       "HamiltonLuske      1.574815e+09\n",
       "ClydeGeronimi      1.574815e+09\n",
       "RichardMarquand    1.253819e+09\n",
       "JenniferLee        1.192711e+09\n",
       "GeorgeLucas        1.052320e+09\n",
       "DavidYates         1.044364e+09\n",
       "JamesCameron       9.159026e+08\n",
       "LeeUnkrich         8.540177e+08\n",
       "RamanHui           8.402392e+08\n",
       "Name: revenue_adj, dtype: float64"
      ]
     },
     "execution_count": 29,
     "metadata": {},
     "output_type": "execute_result"
    }
   ],
   "source": [
    "# Top 10 Aggregated Revenue of the same director\n",
    "director_df[['director', 'revenue_adj']].groupby(['director']).mean()['revenue_adj'].sort_values(ascending = False).head(10)"
   ]
  },
  {
   "cell_type": "code",
   "execution_count": 30,
   "metadata": {},
   "outputs": [
    {
     "data": {
      "text/html": [
       "<div>\n",
       "<style scoped>\n",
       "    .dataframe tbody tr th:only-of-type {\n",
       "        vertical-align: middle;\n",
       "    }\n",
       "\n",
       "    .dataframe tbody tr th {\n",
       "        vertical-align: top;\n",
       "    }\n",
       "\n",
       "    .dataframe thead th {\n",
       "        text-align: right;\n",
       "    }\n",
       "</style>\n",
       "<table border=\"1\" class=\"dataframe\">\n",
       "  <thead>\n",
       "    <tr style=\"text-align: right;\">\n",
       "      <th></th>\n",
       "      <th></th>\n",
       "    </tr>\n",
       "    <tr>\n",
       "      <th>director</th>\n",
       "      <th>revenue_adj</th>\n",
       "    </tr>\n",
       "  </thead>\n",
       "  <tbody>\n",
       "    <tr>\n",
       "      <th>JamesCameron</th>\n",
       "      <th>2.827124e+09</th>\n",
       "    </tr>\n",
       "    <tr>\n",
       "      <th>GeorgeLucas</th>\n",
       "      <th>2.789712e+09</th>\n",
       "    </tr>\n",
       "    <tr>\n",
       "      <th>JamesCameron</th>\n",
       "      <th>2.506406e+09</th>\n",
       "    </tr>\n",
       "    <tr>\n",
       "      <th>WilliamFriedkin</th>\n",
       "      <th>2.167325e+09</th>\n",
       "    </tr>\n",
       "    <tr>\n",
       "      <th>StevenSpielberg</th>\n",
       "      <th>1.907006e+09</th>\n",
       "    </tr>\n",
       "    <tr>\n",
       "      <th>J.J.Abrams</th>\n",
       "      <th>1.902723e+09</th>\n",
       "    </tr>\n",
       "    <tr>\n",
       "      <th>StevenSpielberg</th>\n",
       "      <th>1.791694e+09</th>\n",
       "    </tr>\n",
       "    <tr>\n",
       "      <th>IrwinWinkler</th>\n",
       "      <th>1.583050e+09</th>\n",
       "    </tr>\n",
       "    <tr>\n",
       "      <th>ClydeGeronimi</th>\n",
       "      <th>1.574815e+09</th>\n",
       "    </tr>\n",
       "    <tr>\n",
       "      <th>HamiltonLuske</th>\n",
       "      <th>1.574815e+09</th>\n",
       "    </tr>\n",
       "  </tbody>\n",
       "</table>\n",
       "</div>"
      ],
      "text/plain": [
       "Empty DataFrame\n",
       "Columns: []\n",
       "Index: [(JamesCameron, 2827123750.41189), (GeorgeLucas, 2789712242.27745), (JamesCameron, 2506405735.41947), (WilliamFriedkin, 2167324901.19974), (StevenSpielberg, 1907005841.91576), (J.J.Abrams, 1902723129.80182), (StevenSpielberg, 1791694309.24878), (IrwinWinkler, 1583049536.35242), (ClydeGeronimi, 1574814739.70476), (HamiltonLuske, 1574814739.70476)]"
      ]
     },
     "execution_count": 30,
     "metadata": {},
     "output_type": "execute_result"
    }
   ],
   "source": [
    "# Top 10 yearly Revenue of the same director\n",
    "director_df[[ 'director','revenue_adj']].groupby([ 'director','revenue_adj']).sum('revenue_adj').sort_values('revenue_adj', ascending=False).head(10)"
   ]
  },
  {
   "cell_type": "code",
   "execution_count": 31,
   "metadata": {},
   "outputs": [
    {
     "data": {
      "text/html": [
       "<div>\n",
       "<style scoped>\n",
       "    .dataframe tbody tr th:only-of-type {\n",
       "        vertical-align: middle;\n",
       "    }\n",
       "\n",
       "    .dataframe tbody tr th {\n",
       "        vertical-align: top;\n",
       "    }\n",
       "\n",
       "    .dataframe thead th {\n",
       "        text-align: right;\n",
       "    }\n",
       "</style>\n",
       "<table border=\"1\" class=\"dataframe\">\n",
       "  <thead>\n",
       "    <tr style=\"text-align: right;\">\n",
       "      <th></th>\n",
       "      <th>popularity</th>\n",
       "      <th>budget</th>\n",
       "      <th>revenue</th>\n",
       "      <th>original_title</th>\n",
       "      <th>runtime</th>\n",
       "      <th>release_date</th>\n",
       "      <th>vote_count</th>\n",
       "      <th>vote_average</th>\n",
       "      <th>release_year</th>\n",
       "      <th>budget_adj</th>\n",
       "      <th>revenue_adj</th>\n",
       "    </tr>\n",
       "  </thead>\n",
       "  <tbody>\n",
       "    <tr>\n",
       "      <th>0</th>\n",
       "      <td>32.985763</td>\n",
       "      <td>150000000</td>\n",
       "      <td>1513528810</td>\n",
       "      <td>Jurassic World</td>\n",
       "      <td>124</td>\n",
       "      <td>2015-06-09</td>\n",
       "      <td>5562</td>\n",
       "      <td>6.5</td>\n",
       "      <td>2015</td>\n",
       "      <td>1.379999e+08</td>\n",
       "      <td>1.392446e+09</td>\n",
       "    </tr>\n",
       "    <tr>\n",
       "      <th>1</th>\n",
       "      <td>28.419936</td>\n",
       "      <td>150000000</td>\n",
       "      <td>378436354</td>\n",
       "      <td>Mad Max: Fury Road</td>\n",
       "      <td>120</td>\n",
       "      <td>2015-05-13</td>\n",
       "      <td>6185</td>\n",
       "      <td>7.1</td>\n",
       "      <td>2015</td>\n",
       "      <td>1.379999e+08</td>\n",
       "      <td>3.481613e+08</td>\n",
       "    </tr>\n",
       "    <tr>\n",
       "      <th>2</th>\n",
       "      <td>13.112507</td>\n",
       "      <td>110000000</td>\n",
       "      <td>295238201</td>\n",
       "      <td>Insurgent</td>\n",
       "      <td>119</td>\n",
       "      <td>2015-03-18</td>\n",
       "      <td>2480</td>\n",
       "      <td>6.3</td>\n",
       "      <td>2015</td>\n",
       "      <td>1.012000e+08</td>\n",
       "      <td>2.716190e+08</td>\n",
       "    </tr>\n",
       "    <tr>\n",
       "      <th>3</th>\n",
       "      <td>11.173104</td>\n",
       "      <td>200000000</td>\n",
       "      <td>2068178225</td>\n",
       "      <td>Star Wars: The Force Awakens</td>\n",
       "      <td>136</td>\n",
       "      <td>2015-12-15</td>\n",
       "      <td>5292</td>\n",
       "      <td>7.5</td>\n",
       "      <td>2015</td>\n",
       "      <td>1.839999e+08</td>\n",
       "      <td>1.902723e+09</td>\n",
       "    </tr>\n",
       "    <tr>\n",
       "      <th>4</th>\n",
       "      <td>9.335014</td>\n",
       "      <td>190000000</td>\n",
       "      <td>1506249360</td>\n",
       "      <td>Furious 7</td>\n",
       "      <td>137</td>\n",
       "      <td>2015-04-01</td>\n",
       "      <td>2947</td>\n",
       "      <td>7.3</td>\n",
       "      <td>2015</td>\n",
       "      <td>1.747999e+08</td>\n",
       "      <td>1.385749e+09</td>\n",
       "    </tr>\n",
       "    <tr>\n",
       "      <th>...</th>\n",
       "      <td>...</td>\n",
       "      <td>...</td>\n",
       "      <td>...</td>\n",
       "      <td>...</td>\n",
       "      <td>...</td>\n",
       "      <td>...</td>\n",
       "      <td>...</td>\n",
       "      <td>...</td>\n",
       "      <td>...</td>\n",
       "      <td>...</td>\n",
       "      <td>...</td>\n",
       "    </tr>\n",
       "    <tr>\n",
       "      <th>10822</th>\n",
       "      <td>0.670274</td>\n",
       "      <td>7500000</td>\n",
       "      <td>33736689</td>\n",
       "      <td>Who's Afraid of Virginia Woolf?</td>\n",
       "      <td>131</td>\n",
       "      <td>2066-06-21</td>\n",
       "      <td>74</td>\n",
       "      <td>7.5</td>\n",
       "      <td>1966</td>\n",
       "      <td>5.038511e+07</td>\n",
       "      <td>2.266436e+08</td>\n",
       "    </tr>\n",
       "    <tr>\n",
       "      <th>10828</th>\n",
       "      <td>0.402730</td>\n",
       "      <td>3000000</td>\n",
       "      <td>13000000</td>\n",
       "      <td>Torn Curtain</td>\n",
       "      <td>128</td>\n",
       "      <td>2066-07-13</td>\n",
       "      <td>46</td>\n",
       "      <td>6.3</td>\n",
       "      <td>1966</td>\n",
       "      <td>2.015404e+07</td>\n",
       "      <td>8.733419e+07</td>\n",
       "    </tr>\n",
       "    <tr>\n",
       "      <th>10829</th>\n",
       "      <td>0.395668</td>\n",
       "      <td>4653000</td>\n",
       "      <td>6000000</td>\n",
       "      <td>El Dorado</td>\n",
       "      <td>120</td>\n",
       "      <td>2066-12-17</td>\n",
       "      <td>36</td>\n",
       "      <td>6.9</td>\n",
       "      <td>1966</td>\n",
       "      <td>3.125892e+07</td>\n",
       "      <td>4.030809e+07</td>\n",
       "    </tr>\n",
       "    <tr>\n",
       "      <th>10835</th>\n",
       "      <td>0.299911</td>\n",
       "      <td>12000000</td>\n",
       "      <td>20000000</td>\n",
       "      <td>The Sand Pebbles</td>\n",
       "      <td>182</td>\n",
       "      <td>2066-12-20</td>\n",
       "      <td>28</td>\n",
       "      <td>7.0</td>\n",
       "      <td>1966</td>\n",
       "      <td>8.061618e+07</td>\n",
       "      <td>1.343603e+08</td>\n",
       "    </tr>\n",
       "    <tr>\n",
       "      <th>10848</th>\n",
       "      <td>0.207257</td>\n",
       "      <td>5115000</td>\n",
       "      <td>12000000</td>\n",
       "      <td>Fantastic Voyage</td>\n",
       "      <td>100</td>\n",
       "      <td>2066-08-24</td>\n",
       "      <td>42</td>\n",
       "      <td>6.7</td>\n",
       "      <td>1966</td>\n",
       "      <td>3.436265e+07</td>\n",
       "      <td>8.061618e+07</td>\n",
       "    </tr>\n",
       "  </tbody>\n",
       "</table>\n",
       "<p>3849 rows × 11 columns</p>\n",
       "</div>"
      ],
      "text/plain": [
       "       popularity     budget     revenue                   original_title  \\\n",
       "0       32.985763  150000000  1513528810                   Jurassic World   \n",
       "1       28.419936  150000000   378436354               Mad Max: Fury Road   \n",
       "2       13.112507  110000000   295238201                        Insurgent   \n",
       "3       11.173104  200000000  2068178225     Star Wars: The Force Awakens   \n",
       "4        9.335014  190000000  1506249360                        Furious 7   \n",
       "...           ...        ...         ...                              ...   \n",
       "10822    0.670274    7500000    33736689  Who's Afraid of Virginia Woolf?   \n",
       "10828    0.402730    3000000    13000000                     Torn Curtain   \n",
       "10829    0.395668    4653000     6000000                        El Dorado   \n",
       "10835    0.299911   12000000    20000000                 The Sand Pebbles   \n",
       "10848    0.207257    5115000    12000000                 Fantastic Voyage   \n",
       "\n",
       "       runtime release_date  vote_count  vote_average  release_year  \\\n",
       "0          124   2015-06-09        5562           6.5          2015   \n",
       "1          120   2015-05-13        6185           7.1          2015   \n",
       "2          119   2015-03-18        2480           6.3          2015   \n",
       "3          136   2015-12-15        5292           7.5          2015   \n",
       "4          137   2015-04-01        2947           7.3          2015   \n",
       "...        ...          ...         ...           ...           ...   \n",
       "10822      131   2066-06-21          74           7.5          1966   \n",
       "10828      128   2066-07-13          46           6.3          1966   \n",
       "10829      120   2066-12-17          36           6.9          1966   \n",
       "10835      182   2066-12-20          28           7.0          1966   \n",
       "10848      100   2066-08-24          42           6.7          1966   \n",
       "\n",
       "         budget_adj   revenue_adj  \n",
       "0      1.379999e+08  1.392446e+09  \n",
       "1      1.379999e+08  3.481613e+08  \n",
       "2      1.012000e+08  2.716190e+08  \n",
       "3      1.839999e+08  1.902723e+09  \n",
       "4      1.747999e+08  1.385749e+09  \n",
       "...             ...           ...  \n",
       "10822  5.038511e+07  2.266436e+08  \n",
       "10828  2.015404e+07  8.733419e+07  \n",
       "10829  3.125892e+07  4.030809e+07  \n",
       "10835  8.061618e+07  1.343603e+08  \n",
       "10848  3.436265e+07  8.061618e+07  \n",
       "\n",
       "[3849 rows x 11 columns]"
      ]
     },
     "execution_count": 31,
     "metadata": {},
     "output_type": "execute_result"
    }
   ],
   "source": [
    "df.drop(columns=['cast', 'director', 'genres', 'production_companies'], inplace= True)\n",
    "df"
   ]
  },
  {
   "cell_type": "markdown",
   "metadata": {},
   "source": [
    "### Research Question 2  (Which is the most popular movie in the dataset)"
   ]
  },
  {
   "cell_type": "code",
   "execution_count": 32,
   "metadata": {},
   "outputs": [
    {
     "data": {
      "text/html": [
       "<div>\n",
       "<style scoped>\n",
       "    .dataframe tbody tr th:only-of-type {\n",
       "        vertical-align: middle;\n",
       "    }\n",
       "\n",
       "    .dataframe tbody tr th {\n",
       "        vertical-align: top;\n",
       "    }\n",
       "\n",
       "    .dataframe thead th {\n",
       "        text-align: right;\n",
       "    }\n",
       "</style>\n",
       "<table border=\"1\" class=\"dataframe\">\n",
       "  <thead>\n",
       "    <tr style=\"text-align: right;\">\n",
       "      <th></th>\n",
       "      <th>popularity</th>\n",
       "      <th>vote_count</th>\n",
       "      <th>vote_average</th>\n",
       "      <th>runtime</th>\n",
       "      <th>revenue_adj</th>\n",
       "      <th>budget_adj</th>\n",
       "    </tr>\n",
       "  </thead>\n",
       "  <tbody>\n",
       "    <tr>\n",
       "      <th>popularity</th>\n",
       "      <td>1.000000</td>\n",
       "      <td>0.779986</td>\n",
       "      <td>0.317750</td>\n",
       "      <td>0.215510</td>\n",
       "      <td>0.546716</td>\n",
       "      <td>0.398848</td>\n",
       "    </tr>\n",
       "    <tr>\n",
       "      <th>vote_count</th>\n",
       "      <td>0.779986</td>\n",
       "      <td>1.000000</td>\n",
       "      <td>0.387262</td>\n",
       "      <td>0.274215</td>\n",
       "      <td>0.654534</td>\n",
       "      <td>0.497657</td>\n",
       "    </tr>\n",
       "    <tr>\n",
       "      <th>vote_average</th>\n",
       "      <td>0.317750</td>\n",
       "      <td>0.387262</td>\n",
       "      <td>1.000000</td>\n",
       "      <td>0.352615</td>\n",
       "      <td>0.266806</td>\n",
       "      <td>0.036204</td>\n",
       "    </tr>\n",
       "    <tr>\n",
       "      <th>runtime</th>\n",
       "      <td>0.215510</td>\n",
       "      <td>0.274215</td>\n",
       "      <td>0.352615</td>\n",
       "      <td>1.000000</td>\n",
       "      <td>0.280978</td>\n",
       "      <td>0.334660</td>\n",
       "    </tr>\n",
       "    <tr>\n",
       "      <th>revenue_adj</th>\n",
       "      <td>0.546716</td>\n",
       "      <td>0.654534</td>\n",
       "      <td>0.266806</td>\n",
       "      <td>0.280978</td>\n",
       "      <td>1.000000</td>\n",
       "      <td>0.570187</td>\n",
       "    </tr>\n",
       "    <tr>\n",
       "      <th>budget_adj</th>\n",
       "      <td>0.398848</td>\n",
       "      <td>0.497657</td>\n",
       "      <td>0.036204</td>\n",
       "      <td>0.334660</td>\n",
       "      <td>0.570187</td>\n",
       "      <td>1.000000</td>\n",
       "    </tr>\n",
       "  </tbody>\n",
       "</table>\n",
       "</div>"
      ],
      "text/plain": [
       "              popularity  vote_count  vote_average   runtime  revenue_adj  \\\n",
       "popularity      1.000000    0.779986      0.317750  0.215510     0.546716   \n",
       "vote_count      0.779986    1.000000      0.387262  0.274215     0.654534   \n",
       "vote_average    0.317750    0.387262      1.000000  0.352615     0.266806   \n",
       "runtime         0.215510    0.274215      0.352615  1.000000     0.280978   \n",
       "revenue_adj     0.546716    0.654534      0.266806  0.280978     1.000000   \n",
       "budget_adj      0.398848    0.497657      0.036204  0.334660     0.570187   \n",
       "\n",
       "              budget_adj  \n",
       "popularity      0.398848  \n",
       "vote_count      0.497657  \n",
       "vote_average    0.036204  \n",
       "runtime         0.334660  \n",
       "revenue_adj     0.570187  \n",
       "budget_adj      1.000000  "
      ]
     },
     "execution_count": 32,
     "metadata": {},
     "output_type": "execute_result"
    }
   ],
   "source": [
    "#Finding corelation between various variables\n",
    "df[['popularity', 'vote_count','vote_average','runtime', 'revenue_adj', 'budget_adj']].corr()"
   ]
  },
  {
   "cell_type": "markdown",
   "metadata": {},
   "source": [
    "- It's very obvious that the popularity is strongly positive corelated with the votes count and moderate positive corelated with the revenue.\n",
    "- Moderate positive corelation between the budget and the revenue so it's more common that the high budget movie will be high revenue"
   ]
  },
  {
   "cell_type": "code",
   "execution_count": 33,
   "metadata": {},
   "outputs": [
    {
     "data": {
      "image/png": "[encoded data removed]",
      "text/plain": [
       "<Figure size 576x576 with 36 Axes>"
      ]
     },
     "metadata": {
      "needs_background": "light"
     },
     "output_type": "display_data"
    }
   ],
   "source": [
    "#Finding corelation between various variables in scatter plot\n",
    "pd.plotting.scatter_matrix(df[['popularity', 'vote_count','vote_average','runtime', 'revenue_adj', 'budget_adj']],\n",
    "                           figsize =(8,8), alpha=0.2, c='red', hist_kwds={'color':['burlywood']})\n",
    "plt.show()"
   ]
  },
  {
   "cell_type": "markdown",
   "metadata": {},
   "source": [
    "### Research Question 3 (Finding the highest movie in revenue and poularity)"
   ]
  },
  {
   "cell_type": "code",
   "execution_count": 34,
   "metadata": {},
   "outputs": [
    {
     "data": {
      "image/png": "[encoded data removed]",
      "text/plain": [
       "<Figure size 432x288 with 1 Axes>"
      ]
     },
     "metadata": {
      "needs_background": "light"
     },
     "output_type": "display_data"
    }
   ],
   "source": [
    "sorted_movies = df.sort_values(by='popularity', ascending=False)\n",
    "title = sorted_movies.original_title[:10]\n",
    "\n",
    "plt.plot(figsize=(20,10))\n",
    "plt.gca().invert_yaxis()\n",
    "plt.title('Popular movies')\n",
    "plt.ylabel('Movies')\n",
    "plt.xlabel(\"The Popularity\")\n",
    "plt.barh(title, sorted_movies['popularity'].head(10));"
   ]
  },
  {
   "cell_type": "code",
   "execution_count": 35,
   "metadata": {},
   "outputs": [
    {
     "data": {
      "image/png": "[encoded data removed]",
      "text/plain": [
       "<Figure size 432x288 with 1 Axes>"
      ]
     },
     "metadata": {
      "needs_background": "light"
     },
     "output_type": "display_data"
    }
   ],
   "source": [
    "sorted_movies = df.sort_values(by='revenue_adj', ascending=False)\n",
    "title = sorted_movies.original_title[:10]\n",
    "\n",
    "plt.plot(figsize=(20,10))\n",
    "plt.gca().invert_yaxis()\n",
    "plt.title('Movies Revenue')\n",
    "plt.ylabel('Movies')\n",
    "plt.xlabel(\"Revenue\")\n",
    "plt.barh(title, sorted_movies['revenue_adj'].head(10));"
   ]
  },
  {
   "cell_type": "markdown",
   "metadata": {},
   "source": [
    "<a id='conclusions'></a>\n",
    "## Conclusion of finding\n",
    "\n",
    "- No prefrence of the same genre of prospective of popularity, revenue and average rating.\n",
    "- The most common genre in the whole dataset over years is drama and this is clear as every movie has a drama part in the IMDB description.\n",
    "- No more than two movies directed by the same director in any year, however actors like Bruce Willis participate in six movies in the same year.\n",
    "- The director who has the biggest revenue in one year is James Cameron in 2009 however Irwin Winkler has the biggest aggregated revenue\n",
    "- It's very obvious that the popularity is strongly positive corelated with the votes count and moderate positive corelated with the revenue.\n",
    "- Moderate positive corelation between the budget and the revenue so it's more common that the high budget movie will be high revenue\n",
    "- Jurrasic World is the most popular movie in the dataset, however the highest revenue in the dataset is Avatar"
   ]
  },
  {
   "cell_type": "code",
   "execution_count": 36,
   "metadata": {},
   "outputs": [
    {
     "data": {
      "text/plain": [
       "4294967295"
      ]
     },
     "execution_count": 36,
     "metadata": {},
     "output_type": "execute_result"
    }
   ],
   "source": [
    "from subprocess import call\n",
    "call(['python', '-m', 'nbconvert', 'Investigate_a_Dataset.ipynb'])"
   ]
  },
  {
   "cell_type": "code",
   "execution_count": null,
   "metadata": {},
   "outputs": [],
   "source": []
  }
 ],
 "metadata": {
  "kernelspec": {
   "display_name": "Python 3 (ipykernel)",
   "language": "python",
   "name": "python3"
  },
  "language_info": {
   "codemirror_mode": {
    "name": "ipython",
    "version": 3
   },
   "file_extension": ".py",
   "mimetype": "text/x-python",
   "name": "python",
   "nbconvert_exporter": "python",
   "pygments_lexer": "ipython3",
   "version": "3.9.12"
  }
 },
 "nbformat": 4,
 "nbformat_minor": 2
}
